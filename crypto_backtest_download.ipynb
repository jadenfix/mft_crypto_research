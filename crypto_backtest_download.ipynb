{
 "cells": [
  {
   "cell_type": "markdown",
   "id": "11823fef",
   "metadata": {},
   "source": [
    "# Crypto Backtesting – Full ML & DL Stack\n",
    "\n",
    "This notebook trains multiple ML/DL models (RandomForest, XGBoost, AdaBoost, MLP, HMM regime, CNN, LSTM, GRU) on minute‑level OHLCV data for multiple cryptocurrencies and evaluates each with **Backtesting.py**.\n",
    "\n",
    "Adjust `CSV_PATHS` and hyper‑parameters to your liking, then run all cells."
   ]
  },
  {
   "cell_type": "code",
   "execution_count": null,
   "id": "6c6dce71",
   "metadata": {},
   "outputs": [],
   "source": [
    "!pip -q install pandas numpy ta backtesting scikit-learn xgboost hmmlearn tensorflow matplotlib"
   ]
  },
  {
   "cell_type": "code",
   "execution_count": null,
   "id": "9413bace",
   "metadata": {},
   "outputs": [],
   "source": [
    "import pandas as pd, numpy as np\n",
    "from pathlib import Path\n",
    "from ta.volatility import BollingerBands\n",
    "from ta.trend import SMAIndicator\n",
    "from ta.momentum import RSIIndicator, StochasticOscillator\n",
    "from sklearn.ensemble import RandomForestClassifier, AdaBoostClassifier, MLPClassifier\n",
    "from sklearn.model_selection import cross_val_score, TimeSeriesSplit\n",
    "from sklearn.preprocessing import StandardScaler\n",
    "from xgboost import XGBClassifier\n",
    "from hmmlearn.hmm import GaussianHMM\n",
    "import tensorflow as tf\n",
    "from tensorflow.keras import Sequential\n",
    "from tensorflow.keras.layers import Conv1D, LSTM, GRU, Dense, Flatten\n",
    "from tensorflow.keras.callbacks import EarlyStopping\n",
    "from backtesting import Backtest, Strategy\n",
    "import matplotlib.pyplot as plt\n",
    "\n",
    "pd.set_option('display.width', 140)"
   ]
  },
  {
   "cell_type": "markdown",
   "id": "81e232c0",
   "metadata": {},
   "source": [
    "## 1  Load and feature‑engineer data"
   ]
  },
  {
   "cell_type": "code",
   "execution_count": null,
   "id": "cbff19f6",
   "metadata": {},
   "outputs": [],
   "source": [
    "CSV_PATHS = {\n",
    "    'BTC': Path('/Users/jadenfix/hedge-fund-in-a-box/cpp_engine/data/2024_2025/2024_to_april_2025_btc_data.csv'),\n",
    "    'ETH': Path('/Users/jadenfix/hedge-fund-in-a-box/cpp_engine/data/2024_2025/2024_to_april_2025_eth_data.csv'),\n",
    "    'SOL': Path('/Users/jadenfix/hedge-fund-in-a-box/cpp_engine/data/2024_2025/2024_to_april_2025_sol_data.csv'),\n",
    "    'ADA': Path('/Users/jadenfix/hedge-fund-in-a-box/cpp_engine/data/2024_2025/2024_to_april_2025_ada_data.csv')\n",
    "}\n",
    "\n",
    "def load_crypto(path: Path) -> pd.DataFrame:\n",
    "    df = pd.read_csv(path)\n",
    "    df['datetime'] = pd.to_datetime(df['date_only'] + ' ' + df['time_only'])\n",
    "    df = df.set_index('datetime').sort_index()\n",
    "    df = df.rename(columns=str.lower)[['open','high','low','close','volume']]\n",
    "    return df\n",
    "\n",
    "def add_indicators(df):\n",
    "    c = df['close']\n",
    "    df['sma_short'] = SMAIndicator(c, 14).sma_indicator()\n",
    "    df['sma_long']  = SMAIndicator(c, 50).sma_indicator()\n",
    "    df['sma_ratio'] = df['sma_short'] / df['sma_long']\n",
    "    df['rsi']       = RSIIndicator(c, 14).rsi()\n",
    "    bb = BollingerBands(c, 20, 2)\n",
    "    df['bb_high']   = bb.bollinger_hband()\n",
    "    df['bb_low']    = bb.bollinger_lband()\n",
    "    df['bb_width']  = (df['bb_high'] - df['bb_low']) / c\n",
    "    stoch = StochasticOscillator(df['high'], df['low'], c, 14)\n",
    "    df['stoch'] = stoch.stoch()\n",
    "    df['return'] = c.pct_change().shift(-1)\n",
    "    df['volatility'] = c.rolling(window=14).std()\n",
    "    df['direction'] = np.sign(df['return']).replace(0, np.nan).bfill()\n",
    "    return df.dropna()\n",
    "\n",
    "# Process all cryptocurrencies\n",
    "crypto_data = {coin: add_indicators(load_crypto(path)) for coin, path in CSV_PATHS.items()}"
   ]
  },
  {
   "cell_type": "markdown",
   "id": "21f11bc1",
   "metadata": {},
   "source": [
    "## 2  Train/test split with cross-validation"
   ]
  },
  {
   "cell_type": "code",
   "execution_count": null,
   "id": "c9d36239",
   "metadata": {},
   "outputs": [],
   "source": [
    "FEATURES = ['sma_short', 'sma_long', 'sma_ratio', 'rsi', 'bb_high', 'bb_low', 'bb_width', 'stoch', 'volatility']\n",
    "\n",
    "def prepare_data(df):\n",
    "    df_bt = df.rename(columns={'open':'Open','high':'High','low':'Low','close':'Close','volume':'Volume'}).dropna()\n",
    "    X, y = df[FEATURES], df['direction']\n",
    "    scaler = StandardScaler()\n",
    "    X_scaled = scaler.fit_transform(X)\n",
    "    return X_scaled, y\n",
    "\n",
    "# Prepare data for each cryptocurrency\n",
    "crypto_datasets = {coin: prepare_data(data) for coin, data in crypto_data.items()}"
   ]
  },
  {
   "cell_type": "markdown",
   "id": "d76498f3",
   "metadata": {},
   "source": [
    "## 3  Fit classical ML models with robust cross-validation"
   ]
  },
  {
   "cell_type": "code",
   "execution_count": null,
   "id": "93e52254",
   "metadata": {},
   "outputs": [],
   "source": [
    "def train_robust_model(X, y, model_class, **kwargs):\n",
    "    tscv = TimeSeriesSplit(n_splits=5)\n",
    "    model = model_class(**kwargs)\n",
    "    cv_scores = cross_val_score(model, X, y, cv=tscv, scoring='balanced_accuracy')\n",
    "    print(f\"Cross-validation scores: {cv_scores}, Mean: {cv_scores.mean():.4f} ± {cv_scores.std()*2:.4f}\")\n",
    "    model.fit(X, y)\n",
    "    return model\n",
    "\n",
    "# Train models for each cryptocurrency\n",
    "crypto_models = {}\n",
    "for coin, (X, y) in crypto_datasets.items():\n",
    "    print(f\"\\nTraining models for {coin}:\")\n",
    "    crypto_models[coin] = {\n",
    "        'RF': train_robust_model(X, y, RandomForestClassifier, n_estimators=300, max_depth=6, class_weight='balanced', random_state=42),\n",
    "        'XGB': train_robust_model(X, y, XGBClassifier, n_estimators=250, max_depth=4, learning_rate=0.05, subsample=0.8, colsample_bytree=0.8, eval_metric='logloss', random_state=42),\n",
    "        'ADB': train_robust_model(X, y, AdaBoostClassifier, n_estimators=200, learning_rate=0.5, random_state=42),\n",
    "        'MLP': train_robust_model(X, y, MLPClassifier, hidden_layer_sizes=(64,32), max_iter=200, batch_size=128, solver='adam', random_state=42)\n",
    "    }"
   ]
  },
  {
   "cell_type": "markdown",
   "id": "d7c7908c",
   "metadata": {},
   "source": [
    "## 4  HMM bull/bear regime"
   ]
  },
  {
   "cell_type": "code",
   "execution_count": null,
   "id": "58049996",
   "metadata": {},
   "outputs": [],
   "source": [
    "def train_hmm(df):\n",
    "    hmm = GaussianHMM(2, 'full', n_iter=150, random_state=42).fit(df[['return']].values)\n",
    "    states = hmm.predict(df[['return']].values)\n",
    "    df['hmm_signal'] = pd.Series(states, index=df.index).map({states[0]:1, 1-states[0]:-1})\n",
    "    return hmm, states\n",
    "\n",
    "# Train HMM for each cryptocurrency\n",
    "crypto_hmm = {coin: train_hmm(data) for coin, data in crypto_data.items()}"
   ]
  },
  {
   "cell_type": "markdown",
   "id": "e28ae5e0",
   "metadata": {},
   "source": [
    "## 5  Deep Learning models with early stopping"
   ]
  },
  {
   "cell_type": "code",
   "execution_count": null,
   "id": "f008291d",
   "metadata": {},
   "outputs": [],
   "source": [
    "WINDOW = 20\n",
    "\n",
    "def prepare_dl_data(X, y):\n",
    "    X_dl = np.array([X[i:i+WINDOW] for i in range(len(X)-WINDOW)])\n",
    "    y_dl = y[WINDOW:]\n",
    "    return X_dl, y_dl\n",
    "\n",
    "def make_cnn(shape):\n",
    "    m = Sequential([\n",
    "        Conv1D(32, 3, activation='relu', input_shape=shape),\n",
    "        Conv1D(16, 3, activation='relu'),\n",
    "        Flatten(), Dense(16, activation='relu'), Dense(1, activation='tanh')\n",
    "    ])\n",
    "    m.compile('adam', loss='mse')\n",
    "    return m\n",
    "\n",
    "def make_rnn(layer, shape):\n",
    "    m = Sequential([\n",
    "        layer(32, input_shape=shape),\n",
    "        Dense(16, activation='relu'), Dense(1, activation='tanh')\n",
    "    ])\n",
    "    m.compile('adam', loss='mse')\n",
    "    return m\n",
    "\n",
    "early_stopping = EarlyStopping(patience=5, restore_best_weights=True)\n",
    "\n",
    "# Train deep learning models for each cryptocurrency\n",
    "crypto_dl_models = {}\n",
    "for coin, (X, y) in crypto_datasets.items():\n",
    "    X_dl, y_dl = prepare_dl_data(X, y)\n",
    "    crypto_dl_models[coin] = {\n",
    "        'CNN': make_cnn((WINDOW, X_dl.shape[2])),\n",
    "        'LSTM': make_rnn(LSTM, (WINDOW, X_dl.shape[2])),\n",
    "        'GRU': make_rnn(GRU, (WINDOW, X_dl.shape[2]))\n",
    "    }\n",
    "    \n",
    "    for model_name, model in crypto_dl_models[coin].items():\n",
    "        model.fit(X_dl, y_dl, epochs=50, batch_size=128, verbose=0, callbacks=[early_stopping])"
   ]
  },
  {
   "cell_type": "markdown",
   "id": "c67ed253",
   "metadata": {},
   "source": [
    "## 6  Backtesting strategies with comprehensive performance tracking"
   ]
  },
  {
   "cell_type": "code",
   "execution_count": null,
   "id": "d8236091",
   "metadata": {},
   "outputs": [],
   "source": [
    "class MLStrategy(Strategy):\n",
    "    model = None\n",
    "    feats = FEATURES\n",
    "    window = WINDOW\n",
    "    def init(self): pass\n",
    "    def _predict(self):\n",
    "        if isinstance(self.model, tf.keras.Model):\n",
    "            if len(self.data) < self.window: return 0\n",
    "            x = self.data.df[self.feats].iloc[-self.window:].values\n",
    "            return float(self.model.predict(x[np.newaxis], verbose=0)[0,0])\n",
    "        elif self.model is None:\n",
    "            return self.data.df['hmm_signal'].iloc[-1]\n",
    "        else:\n",
    "            row = [self.data.df[f].iloc[-1] for f in self.feats]\n",
    "            return self.model.predict([row])[0]\n",
    "    def next(self):\n",
    "        sig = np.sign(self._predict())\n",
    "        if sig > 0 and not self.position.is_long:\n",
    "            self.position.close(); self.buy()\n",
    "        elif sig < 0 and not self.position.is_short:\n",
    "            self.position.close(); self.sell()\n",
    "\n",
    "# Comprehensive backtesting results\n",
    "results = {}\n",
    "for coin, data in crypto_data.items():\n",
    "    df_bt = data.rename(columns={'open':'Open','high':'High','low':'Low','close':'Close','volume':'Volume'}).dropna()\n",
    "    results[coin] = {}\n",
    "    \n",
    "    # Classical ML models\n",
    "    for name, mdl in crypto_models[coin].items():\n",
    "        Strat = type(f'{name}Strat', (MLStrategy,), {'model': mdl})\n",
    "        stats = Backtest(df_bt, Strat, cash=10_000, commission=.001, exclusive_orders=True).run()\n",
    "        results[coin][name] = stats\n",
    "    \n",
    "    # Deep Learning models\n",
    "    for name, mdl in crypto_dl_models[coin].items():\n",
    "        Strat = type(f'{name}Strat', (MLStrategy,), {'model': mdl})\n",
    "        stats = Backtest(df_bt, Strat, cash=10_000, commission=.001, exclusive_orders=True).run()\n",
    "        results[coin][name] = stats\n",
    "    \n",
    "    # HMM Strategy\n",
    "    Strat = type('HMMStrat', (MLStrategy,), {'model': None})\n",
    "    stats = Backtest(df_bt, Strat, cash=10_000, commission=.001, exclusive_orders=True).run()\n",
    "    results[coin]['HMM'] = stats\n",
    "\n",
    "# Print and visualize results\n",
    "for coin, coin_results in results.items():\n",
    "    print(f\"\\n{coin} Cryptocurrency Results:\")\n",
    "    for name, stats in coin_results.items():\n",
    "        print(f\"{name:5s}: Return {stats['Return [%]']:.2f}%  |  Equity ${stats['_equity_final']:.0f}\")\n",
    "\n",
    "# Optional: Create a comparative visualization\n",
    "plt.figure(figsize=(15, 10))\n",
    "for coin, coin_results in results.items():\n",
    "    returns = [stats['Return [%]'] for stats in coin_results.values()]\n",
    "    plt.bar([f\"{coin} - {name}\" for name in coin_results.keys()], returns)\n",
    "plt.title('Model Performance Across Cryptocurrencies')\n",
    "plt.ylabel('Return [%]')\n",
    "plt.xticks(rotation=45)\n",
    "plt.tight_layout()\n",
    "plt.show()"
   ]
  }
 ],
 "metadata": {
  "kernelspec": {
   "display_name": "3.11.3",
   "language": "python",
   "name": "python3"
  },
  "language_info": {
   "name": "python",
   "version": "3.11.3"
  }
 },
 "nbformat": 4,
 "nbformat_minor": 5
}
